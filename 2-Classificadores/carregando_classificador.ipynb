{
 "cells": [
  {
   "cell_type": "markdown",
   "metadata": {},
   "source": [
    "# O Pytorch não armazena a estrutura da rede naural, portanto é necessária realizara criação novamene da mesma.\n",
    "# Diferentemente do keras e do tensoflow."
   ]
  },
  {
   "cell_type": "code",
   "execution_count": 1,
   "metadata": {},
   "outputs": [
    {
     "name": "stdout",
     "output_type": "stream",
     "text": [
      "pd -  2.0.3\n",
      "sklearn -  1.5.1\n",
      "np -  1.23.5\n",
      "sns -  0.13.2\n",
      "sklearn -  1.5.1\n",
      "torch -  2.4.1+cu118\n"
     ]
    }
   ],
   "source": [
    "import torch\n",
    "import torch.nn as nn\n",
    "from torch.utils.data import DataLoader\n",
    "from sklearn.metrics import accuracy_score\n",
    "\n",
    "import torch.nn.functional as F\n",
    "import pandas as pd\n",
    "import numpy as np\n",
    "import seaborn as sns\n",
    "import sklearn\n",
    "import os\n",
    "\n",
    "print(\"pd - \", pd.__version__) \n",
    "print(\"sklearn - \", sklearn.__version__) \n",
    "print(\"np - \", np.__version__) \n",
    "print(\"sns - \", sns.__version__) \n",
    "print(\"sklearn - \", sklearn.__version__) \n",
    "print(\"torch - \", torch.__version__)"
   ]
  },
  {
   "cell_type": "code",
   "execution_count": 2,
   "metadata": {},
   "outputs": [],
   "source": [
    "np.random.seed(123)  # Semente da aleatoriedade.\n",
    "torch.manual_seed(123)  # Para os pesos da rede começar sempre iguais (BOA PRÁTICA).\n",
    "torch.cuda.manual_seed(123)\n",
    "\n",
    "baseFolder = os.path.join(os.path.dirname(os.getcwd()),\"Bases\")\n",
    "\n",
    "previsoresData = os.path.join(baseFolder, \"entradas_breast.csv\")\n",
    "classeData = os.path.join(baseFolder, \"saidas_breast.csv\")\n",
    "\n",
    "previsores = pd.read_csv(previsoresData)  # Caracteristicas do tumor\n",
    "classe = pd.read_csv(classeData)  # Maligno ou benigno"
   ]
  },
  {
   "cell_type": "code",
   "execution_count": 3,
   "metadata": {},
   "outputs": [
    {
     "name": "stdout",
     "output_type": "stream",
     "text": [
      "previsores -  <class 'torch.Tensor'> classes -  <class 'torch.Tensor'>\n"
     ]
    }
   ],
   "source": [
    "# Transformação para tensores\n",
    "\n",
    "previsores = torch.tensor(np.array(previsores), dtype=torch.float)\n",
    "classes = torch.tensor(np.array(classe), dtype=torch.float)\n",
    "\n",
    "print(\"previsores - \", type(previsores), \"classes - \", type(classes)) "
   ]
  },
  {
   "cell_type": "code",
   "execution_count": 4,
   "metadata": {},
   "outputs": [],
   "source": [
    "import torch.utils\n",
    "import torch.utils.data\n",
    "\n",
    "\n",
    "train_loader = DataLoader(torch.utils.data.TensorDataset(previsores, classes),\n",
    "                          batch_size=10, \n",
    "                          shuffle=True)"
   ]
  },
  {
   "cell_type": "code",
   "execution_count": 5,
   "metadata": {},
   "outputs": [],
   "source": [
    "# Construção do modelo\n",
    "\n",
    "class classificador_torch(nn.Module):\n",
    "    \n",
    "    def __init__(self) -> None:\n",
    "        super().__init__()\n",
    "        \n",
    "        # Inicialização dos pesos\n",
    "        self.dense0 = torch.nn.Linear(30, 8)\n",
    "        torch.nn.init.normal_(self.dense0.weight, mean = 0.0, std=0.05)\n",
    "        self.dense1 = torch.nn.Linear(8, 8)\n",
    "        torch.nn.init.normal_(self.dense0.weight, mean = 0.0, std=0.05)\n",
    "        self.dense2 = torch.nn.Linear(8, 1)\n",
    "        self.activation = torch.nn.ReLU()\n",
    "        self.dropout = nn.Dropout(0.2)\n",
    "        self.output = nn.Sigmoid()\n",
    "        \n",
    "        \n",
    "    def forward(self, x):\n",
    "        \n",
    "        x = self.dense0(x)\n",
    "        x = self.activation(x)\n",
    "        x = self.dropout(x)\n",
    "        x = self.dense1(x)\n",
    "        x = self.activation(x)\n",
    "        x = self.dropout(x)\n",
    "        x = self.dense2(x)\n",
    "        output = self.output(x)\n",
    "        \n",
    "        return output\n",
    "    "
   ]
  },
  {
   "cell_type": "code",
   "execution_count": 6,
   "metadata": {},
   "outputs": [],
   "source": [
    "classificador = classificador_torch()"
   ]
  },
  {
   "cell_type": "code",
   "execution_count": 7,
   "metadata": {},
   "outputs": [
    {
     "name": "stderr",
     "output_type": "stream",
     "text": [
      "C:\\Users\\wiwil\\AppData\\Local\\Temp\\ipykernel_17436\\2619741520.py:2: FutureWarning: You are using `torch.load` with `weights_only=False` (the current default value), which uses the default pickle module implicitly. It is possible to construct malicious pickle data which will execute arbitrary code during unpickling (See https://github.com/pytorch/pytorch/blob/main/SECURITY.md#untrusted-models for more details). In a future release, the default value for `weights_only` will be flipped to `True`. This limits the functions that could be executed during unpickling. Arbitrary objects will no longer be allowed to be loaded via this mode unless they are explicitly allowlisted by the user via `torch.serialization.add_safe_globals`. We recommend you start setting `weights_only=True` for any use case where you don't have full control of the loaded file. Please open an issue on GitHub for any issues related to this experimental feature.\n",
      "  state_dict = torch.load(\"C:/Users/wiwil/Desktop/PROGRAMACAO/POSTECH/CURSO_PYTORCH/classificador.pth\")\n"
     ]
    }
   ],
   "source": [
    "# Ca\n",
    "state_dict = torch.load(\"C:/Users/wiwil/Desktop/PROGRAMACAO/POSTECH/CURSO_PYTORCH/classificador.pth\")"
   ]
  },
  {
   "cell_type": "code",
   "execution_count": 8,
   "metadata": {},
   "outputs": [
    {
     "name": "stdout",
     "output_type": "stream",
     "text": [
      "OrderedDict([('dense0.weight', tensor([[-4.6708e-03, -2.2667e-03, -5.8148e-03, -6.6391e-04, -3.3497e-02,\n",
      "         -2.6744e-02, -1.8400e-04, -2.3281e-05, -3.2594e-02, -2.3913e-03,\n",
      "         -3.7381e-03, -2.2111e-02, -5.0151e-02,  3.5977e-02, -4.5344e-11,\n",
      "          5.2708e-12,  2.6964e-11,  1.5766e-11,  3.8428e-05,  1.0785e-11,\n",
      "          3.3634e-02, -3.1657e-02, -4.7454e-02, -2.5029e-02,  1.9431e-03,\n",
      "         -7.2347e-07, -2.5325e-02, -1.8971e-04,  8.1963e-03, -6.2858e-05],\n",
      "        [-5.9333e-01, -2.1273e-01, -4.6017e-01, -9.6901e-02,  1.0502e-01,\n",
      "         -3.2745e-02,  8.6753e-02, -6.9125e-02,  3.1295e-02,  4.5964e-02,\n",
      "         -7.1997e-03, -6.1030e-03,  2.6260e-03, -2.2756e-02,  9.2094e-03,\n",
      "          6.3659e-02, -1.8845e-01, -1.9495e-01,  4.7067e-01,  3.2061e-01,\n",
      "         -4.2459e-01, -1.4837e-01, -3.3419e-01,  1.9855e-01,  3.7711e-02,\n",
      "          4.0627e-02,  8.1036e-03,  1.4631e-01,  5.5631e-03,  7.2746e-01],\n",
      "        [ 1.1307e-01,  1.5456e-01,  4.6103e-01,  1.0997e-01, -2.3564e-01,\n",
      "         -1.8841e-01,  1.3509e-01,  5.2122e-02, -3.2368e-02,  3.8730e-01,\n",
      "         -6.8351e-02, -1.6029e-01,  5.6535e-03, -1.4771e-01, -7.3341e-03,\n",
      "         -2.0955e-01,  9.8924e-02,  6.6660e-02,  7.1278e-01, -4.3767e-03,\n",
      "          9.7093e-02, -3.5381e-02,  2.7912e-01, -1.8321e-01,  5.0063e-02,\n",
      "         -2.0050e-02,  8.4542e-03,  1.4827e-02, -4.8259e-02, -6.6576e-02],\n",
      "        [ 4.8333e-02,  3.3204e-01,  2.1153e-01,  4.1524e-02,  1.5917e-02,\n",
      "         -1.7845e-01, -1.1802e-01,  3.9562e-01,  1.4134e-01,  1.3674e-01,\n",
      "          3.3893e-02,  3.6003e-03, -1.8044e-01, -2.4692e-01, -4.7513e-03,\n",
      "          1.1627e-01, -2.3061e-02,  3.8594e-01, -1.9218e-01, -2.1063e-05,\n",
      "          3.2098e-02,  2.7713e-01,  1.8105e-01, -1.0223e-01,  7.4339e-02,\n",
      "          8.9522e-02,  1.4181e-01, -5.4993e-02,  1.2279e-01, -7.6556e-02],\n",
      "        [ 3.3126e-01,  2.7113e-01,  4.9052e-01,  5.8558e-02, -7.6852e-02,\n",
      "          1.2865e-02, -7.3411e-02,  4.5024e-01,  1.5722e-01, -3.3020e-01,\n",
      "         -1.0039e-02,  1.3991e-02, -7.7725e-03, -2.7519e-01, -6.2875e-04,\n",
      "          4.9006e-01,  5.2844e-01,  3.7298e-02, -5.0385e-01, -5.1546e-01,\n",
      "          2.3175e-01, -3.1635e-02,  2.3832e-01, -1.4415e-01, -2.2537e-01,\n",
      "          5.4454e-03, -1.2301e-01,  8.7650e-02,  6.0704e-02, -3.2793e-01],\n",
      "        [-1.9822e-02, -5.4649e-02, -3.6706e-02, -1.2448e-01, -2.2308e-02,\n",
      "         -2.4800e-02, -1.1680e-02, -6.0194e-03, -8.4883e-03, -6.7485e-08,\n",
      "         -1.7132e-02, -5.8731e-06,  1.9172e-02, -4.2871e-02,  2.0698e-39,\n",
      "          5.4852e-39, -1.5051e-39, -3.8540e-39,  1.1695e-34,  2.1472e-16,\n",
      "         -5.5216e-02, -5.5134e-02, -2.8171e-02, -6.5287e-02, -2.0940e-02,\n",
      "          1.0197e-02, -2.2964e-02, -1.5441e-02,  8.2276e-03, -1.4925e-02],\n",
      "        [ 1.1420e-01, -1.7148e-03, -3.6560e-02, -5.2124e-02, -2.4932e-04,\n",
      "          2.0300e-02, -6.3536e-03, -1.3736e-03,  9.9788e-02,  1.4297e-05,\n",
      "          1.1005e-02, -8.8765e-03, -3.4067e-02,  8.1580e-02,  1.7942e-06,\n",
      "         -6.7307e-06,  2.1161e-05,  4.9211e-07,  2.5910e-06, -3.1688e-06,\n",
      "          4.1265e-02, -2.5810e-02, -1.9218e-02, -1.1738e-02,  2.7488e-03,\n",
      "         -3.8266e-03, -2.3437e-02,  8.0835e-04,  2.2015e-03,  9.7024e-06],\n",
      "        [-3.1835e-01, -2.8744e-01, -2.6395e-01,  1.8595e-02,  4.1368e-02,\n",
      "          3.4732e-01,  1.4129e-01, -3.6851e-01, -2.6173e-02,  2.0281e-01,\n",
      "          4.1284e-02,  5.5698e-03, -5.0238e-02, -2.0210e-02,  6.9282e-03,\n",
      "          1.6658e-03,  4.2885e-02, -1.9564e-01,  7.2606e-01,  4.3452e-03,\n",
      "         -2.6193e-01, -3.3919e-01, -1.8750e-01,  9.5414e-02, -3.9140e-02,\n",
      "         -5.4655e-02, -1.2244e-01,  2.7557e-01, -4.8034e-02,  3.9213e-01]])), ('dense0.bias', tensor([ 2.6844e-05, -7.1853e-01,  7.4921e-01,  3.2777e-01,  1.0299e+00,\n",
      "         1.1336e-10,  1.8337e-04, -3.9082e-01])), ('dense1.weight', tensor([[ 2.1041e-01, -9.6634e-02, -3.9873e-02,  6.4394e-02,  1.1260e-01,\n",
      "          1.1503e-01,  5.5609e-02, -2.0320e-02],\n",
      "        [-9.7124e-03,  1.1934e-01, -2.1682e-01, -1.8032e-01, -1.7914e-01,\n",
      "          4.2985e-02, -1.9014e-02,  1.0730e-01],\n",
      "        [-1.1164e-02, -3.9879e-01,  3.9905e-01,  4.8248e-01,  1.8908e-01,\n",
      "          2.9137e-01,  1.3157e-01, -1.0829e-01],\n",
      "        [-3.1672e-03, -3.1202e-01, -1.6796e-01, -1.2642e-01, -3.9178e-01,\n",
      "          2.1257e-01, -7.8218e-02, -2.2613e-01],\n",
      "        [ 1.0383e-01, -4.0858e-02, -1.5467e-01, -3.2588e-02, -5.2125e-02,\n",
      "          2.4631e-01,  4.6040e-02, -1.0863e-10],\n",
      "        [ 1.2689e-01, -1.3310e-01,  2.7115e-01,  2.9941e-01,  9.4110e-02,\n",
      "         -8.8907e-02,  2.9881e-02, -3.1314e-01],\n",
      "        [ 1.3280e-01, -1.0986e-01,  5.1921e-01,  2.9403e-01,  1.7713e-01,\n",
      "          1.2436e-01,  1.0233e-01, -2.3099e-01],\n",
      "        [-2.7929e-02,  1.9639e-01, -1.7160e-01, -1.4841e-01, -1.0788e-01,\n",
      "          2.5218e-02, -4.2341e-02,  1.7440e-01]])), ('dense1.bias', tensor([ 3.5808e-01,  1.7002e-01,  3.8854e-01,  6.1784e-01, -1.1305e-04,\n",
      "         3.1248e-01,  3.3095e-01,  1.8120e-01])), ('dense2.weight', tensor([[ 0.1868, -0.3791,  0.1488, -0.0942,  0.1678,  0.2593,  0.1197, -0.2111]])), ('dense2.bias', tensor([0.3015]))])\n"
     ]
    }
   ],
   "source": [
    "print(state_dict)"
   ]
  },
  {
   "cell_type": "code",
   "execution_count": 9,
   "metadata": {},
   "outputs": [
    {
     "data": {
      "text/plain": [
       "<All keys matched successfully>"
      ]
     },
     "execution_count": 9,
     "metadata": {},
     "output_type": "execute_result"
    }
   ],
   "source": [
    "classificador.load_state_dict(state_dict)  # Carrega os pesos salvos."
   ]
  },
  {
   "cell_type": "code",
   "execution_count": 19,
   "metadata": {},
   "outputs": [],
   "source": [
    "new_register = torch.tensor([[13.54,14.36,87.46,566.3,0.09779,0.08129,0.06664,0.04781,0.1885,0.05766,0.2699,0.7886,2058,23.56,0.008462,0.0146,0.02387,0.01315,0.0198,0.0023,15.11,19.26,99.7,711.2,144,0.1773,239,0.1288,0.2977,0.07259\n",
    "]], dtype = torch.float)"
   ]
  },
  {
   "cell_type": "code",
   "execution_count": 20,
   "metadata": {},
   "outputs": [
    {
     "name": "stdout",
     "output_type": "stream",
     "text": [
      "previsao.detach().numpy() [[0.98777276]]\n",
      "[[ True]]\n"
     ]
    }
   ],
   "source": [
    "classificador.eval()\n",
    "\n",
    "previsao = classificador(new_register)\n",
    "\n",
    "print(\"previsao.detach().numpy()\", previsao.detach().numpy()) \n",
    "previsao = (previsao.detach().numpy() > 0.9)\n",
    "\n",
    "print(previsao)"
   ]
  },
  {
   "cell_type": "code",
   "execution_count": 12,
   "metadata": {},
   "outputs": [],
   "source": [
    "np.random.seed(123)  # Semente da aleatoriedade.\n",
    "torch.manual_seed(123)  # Para os pesos da rede começar sempre iguais (BOA PRÁTICA).\n",
    "torch.cuda.manual_seed(123)\n",
    "\n",
    "baseFolder = os.path.join(os.path.dirname(os.getcwd()),\"Bases\")\n",
    "\n",
    "previsoresData = os.path.join(baseFolder, \"entradas_breast.csv\")\n",
    "classeData = os.path.join(baseFolder, \"saidas_breast.csv\")\n",
    "\n",
    "previsores = pd.read_csv(previsoresData)  # Caracteristicas do tumor\n",
    "classe = pd.read_csv(classeData)  # Maligno ou benigno"
   ]
  },
  {
   "cell_type": "code",
   "execution_count": 13,
   "metadata": {},
   "outputs": [],
   "source": [
    "previsores = torch.tensor(np.array(previsores), dtype=torch.float)\n",
    "classesData = torch.tensor(np.array(classes), dtype=torch.float)"
   ]
  },
  {
   "cell_type": "code",
   "execution_count": 14,
   "metadata": {},
   "outputs": [],
   "source": [
    "previsoes = classificador.forward(previsores).detach()"
   ]
  },
  {
   "cell_type": "code",
   "execution_count": 15,
   "metadata": {},
   "outputs": [
    {
     "data": {
      "text/plain": [
       "array(0.15360843, dtype=float32)"
      ]
     },
     "execution_count": 15,
     "metadata": {},
     "output_type": "execute_result"
    }
   ],
   "source": [
    "F.binary_cross_entropy(previsoes, classesData).numpy()  # Valor do erro na base de dados"
   ]
  },
  {
   "cell_type": "code",
   "execution_count": 16,
   "metadata": {},
   "outputs": [
    {
     "data": {
      "text/plain": [
       "0.9367311072056239"
      ]
     },
     "execution_count": 16,
     "metadata": {},
     "output_type": "execute_result"
    }
   ],
   "source": [
    "accuracy_score(classesData.numpy(), (previsoes > 0.5).numpy())"
   ]
  }
 ],
 "metadata": {
  "kernelspec": {
   "display_name": "Python 3",
   "language": "python",
   "name": "python3"
  },
  "language_info": {
   "codemirror_mode": {
    "name": "ipython",
    "version": 3
   },
   "file_extension": ".py",
   "mimetype": "text/x-python",
   "name": "python",
   "nbconvert_exporter": "python",
   "pygments_lexer": "ipython3",
   "version": "3.9.2"
  }
 },
 "nbformat": 4,
 "nbformat_minor": 2
}
